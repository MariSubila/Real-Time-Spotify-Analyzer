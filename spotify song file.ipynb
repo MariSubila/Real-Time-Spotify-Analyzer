{
 "cells": [
  {
   "cell_type": "code",
   "execution_count": 5,
   "id": "4fd7e961-a43b-4ef1-ba2e-a89769124194",
   "metadata": {},
   "outputs": [],
   "source": [
    "# Create a new file\n",
    "file = open(\"URL.txt\", \"w\")\n",
    "file.write(\"https://open.spotify.com/track/6vZj02bcQqLTYRAi4jRkw7\\n\")\n",
    "file.write(\"https://open.spotify.com/album/1hqxdOOQtLnoqoh1tL36Y6\\n\")\n",
    "file.write(\"https://open.spotify.com/album/2l86Y48TxWBYmDpUhZQttR\\n\")\n",
    "file.write(\"https://open.spotify.com/track/7lwUOjohKiRoG0SK58bAfS\\n\")\n",
    "file.close()\n"
   ]
  },
  {
   "cell_type": "code",
   "execution_count": null,
   "id": "5028df55-b3ba-4261-8f55-675e50580c87",
   "metadata": {},
   "outputs": [],
   "source": []
  }
 ],
 "metadata": {
  "kernelspec": {
   "display_name": "Python [conda env:base] *",
   "language": "python",
   "name": "conda-base-py"
  },
  "language_info": {
   "codemirror_mode": {
    "name": "ipython",
    "version": 3
   },
   "file_extension": ".py",
   "mimetype": "text/x-python",
   "name": "python",
   "nbconvert_exporter": "python",
   "pygments_lexer": "ipython3",
   "version": "3.12.3"
  }
 },
 "nbformat": 4,
 "nbformat_minor": 5
}
