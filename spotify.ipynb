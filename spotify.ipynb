{
 "cells": [
  {
   "cell_type": "markdown",
   "id": "cf988352-4256-49ce-ae61-141604242ed7",
   "metadata": {},
   "source": [
    "# ***Real Time Data Analysis Project : SPOTIFY***"
   ]
  },
  {
   "cell_type": "markdown",
   "id": "5202e20b-74a3-456a-b706-3a83d1b56966",
   "metadata": {},
   "source": [
    "#### ***INSTALLATION***"
   ]
  },
  {
   "cell_type": "code",
   "execution_count": 1,
   "id": "4b8fd3fb-e707-44eb-bc52-d021199a05bb",
   "metadata": {},
   "outputs": [
    {
     "name": "stdout",
     "output_type": "stream",
     "text": [
      "Collecting spotipy\n",
      "  Downloading spotipy-2.25.1-py3-none-any.whl.metadata (5.1 kB)\n",
      "Requirement already satisfied: pandas in c:\\users\\subi\\anaconda3\\lib\\site-packages (2.2.2)\n",
      "Requirement already satisfied: matplotlib in c:\\users\\subi\\anaconda3\\lib\\site-packages (3.9.2)\n",
      "Collecting redis>=3.5.3 (from spotipy)\n",
      "  Downloading redis-6.2.0-py3-none-any.whl.metadata (10 kB)\n",
      "Requirement already satisfied: requests>=2.25.0 in c:\\users\\subi\\anaconda3\\lib\\site-packages (from spotipy) (2.32.3)\n",
      "Requirement already satisfied: urllib3>=1.26.0 in c:\\users\\subi\\anaconda3\\lib\\site-packages (from spotipy) (2.2.3)\n",
      "Requirement already satisfied: numpy>=1.26.0 in c:\\users\\subi\\anaconda3\\lib\\site-packages (from pandas) (1.26.4)\n",
      "Requirement already satisfied: python-dateutil>=2.8.2 in c:\\users\\subi\\anaconda3\\lib\\site-packages (from pandas) (2.9.0.post0)\n",
      "Requirement already satisfied: pytz>=2020.1 in c:\\users\\subi\\anaconda3\\lib\\site-packages (from pandas) (2024.1)\n",
      "Requirement already satisfied: tzdata>=2022.7 in c:\\users\\subi\\anaconda3\\lib\\site-packages (from pandas) (2023.3)\n",
      "Requirement already satisfied: contourpy>=1.0.1 in c:\\users\\subi\\anaconda3\\lib\\site-packages (from matplotlib) (1.2.0)\n",
      "Requirement already satisfied: cycler>=0.10 in c:\\users\\subi\\anaconda3\\lib\\site-packages (from matplotlib) (0.11.0)\n",
      "Requirement already satisfied: fonttools>=4.22.0 in c:\\users\\subi\\anaconda3\\lib\\site-packages (from matplotlib) (4.51.0)\n",
      "Requirement already satisfied: kiwisolver>=1.3.1 in c:\\users\\subi\\anaconda3\\lib\\site-packages (from matplotlib) (1.4.4)\n",
      "Requirement already satisfied: packaging>=20.0 in c:\\users\\subi\\anaconda3\\lib\\site-packages (from matplotlib) (24.1)\n",
      "Requirement already satisfied: pillow>=8 in c:\\users\\subi\\anaconda3\\lib\\site-packages (from matplotlib) (10.4.0)\n",
      "Requirement already satisfied: pyparsing>=2.3.1 in c:\\users\\subi\\anaconda3\\lib\\site-packages (from matplotlib) (3.1.2)\n",
      "Requirement already satisfied: six>=1.5 in c:\\users\\subi\\anaconda3\\lib\\site-packages (from python-dateutil>=2.8.2->pandas) (1.16.0)\n",
      "Requirement already satisfied: charset-normalizer<4,>=2 in c:\\users\\subi\\anaconda3\\lib\\site-packages (from requests>=2.25.0->spotipy) (3.3.2)\n",
      "Requirement already satisfied: idna<4,>=2.5 in c:\\users\\subi\\anaconda3\\lib\\site-packages (from requests>=2.25.0->spotipy) (3.7)\n",
      "Requirement already satisfied: certifi>=2017.4.17 in c:\\users\\subi\\anaconda3\\lib\\site-packages (from requests>=2.25.0->spotipy) (2025.4.26)\n",
      "Downloading spotipy-2.25.1-py3-none-any.whl (31 kB)\n",
      "Downloading redis-6.2.0-py3-none-any.whl (278 kB)\n",
      "Installing collected packages: redis, spotipy\n",
      "Successfully installed redis-6.2.0 spotipy-2.25.1\n"
     ]
    }
   ],
   "source": [
    "!pip install spotipy pandas matplotlib"
   ]
  },
  {
   "cell_type": "code",
   "execution_count": 3,
   "id": "bcec2308-a119-45a8-b676-0728e7d38987",
   "metadata": {},
   "outputs": [
    {
     "name": "stdout",
     "output_type": "stream",
     "text": [
      "Requirement already satisfied: mysql-connector-python in c:\\users\\subi\\anaconda3\\lib\\site-packages (9.2.0)\n"
     ]
    }
   ],
   "source": [
    "!pip install mysql-connector-python"
   ]
  },
  {
   "cell_type": "markdown",
   "id": "d589f63c-7616-43f7-80ab-dca937df0031",
   "metadata": {},
   "source": [
    "#### ***Required Libraries***"
   ]
  },
  {
   "cell_type": "code",
   "execution_count": 6,
   "id": "726ebd2d-0640-499b-8bdf-dcbee59f6a10",
   "metadata": {},
   "outputs": [],
   "source": [
    "from spotipy.oauth2 import SpotifyClientCredentials\n",
    "import spotipy\n",
    "import pandas as pd\n",
    "import matplotlib.pyplot as plt\n",
    "import re"
   ]
  },
  {
   "cell_type": "markdown",
   "id": "c47cea39-1a94-45a3-aaa3-6e8bd75959ac",
   "metadata": {},
   "source": [
    "#### ***Setup Client Credentials***"
   ]
  },
  {
   "cell_type": "code",
   "execution_count": 21,
   "id": "82f5bd76-8c46-43cd-9995-86f02343269c",
   "metadata": {},
   "outputs": [],
   "source": [
    "sp = spotipy.Spotify(auth_manager = SpotifyClientCredentials(\n",
    "    client_id = \"bdc6836598bd4cea933f1ed34e8808f0\",\n",
    "    client_secret = \"33c47aea8d29466abf4d1c40166ea44b\"\n",
    "))"
   ]
  },
  {
   "cell_type": "markdown",
   "id": "d015a796-2dc0-460e-b9b2-e130b8cd99c4",
   "metadata": {},
   "source": [
    "#### ***Full Track URL***"
   ]
  },
  {
   "cell_type": "code",
   "execution_count": 24,
   "id": "0afd3a89-f8ae-42d9-8b6d-7e4b49b353f9",
   "metadata": {},
   "outputs": [],
   "source": [
    "track_url = \"https://open.spotify.com/track/003vvx7Niy0yvhvHt4a68B\""
   ]
  },
  {
   "cell_type": "markdown",
   "id": "da7ae4c2-cb16-4b8c-afde-20090d36731b",
   "metadata": {},
   "source": [
    "#### ***Extract Track Id Directly From URL Using Regex***"
   ]
  },
  {
   "cell_type": "code",
   "execution_count": 27,
   "id": "95fab5d1-96f1-410f-bd42-49a66e7a3f04",
   "metadata": {},
   "outputs": [],
   "source": [
    "track_id = re.search(r\"track/([a-zA-Z0-9]+)\",track_url).group(1)"
   ]
  },
  {
   "cell_type": "markdown",
   "id": "0bd7a76e-a65e-4a08-9cdc-aa634ea5eb97",
   "metadata": {},
   "source": [
    "#### ***Fetch Track Details***"
   ]
  },
  {
   "cell_type": "code",
   "execution_count": 30,
   "id": "3e1f4557-1c4b-4ca3-9b7e-3e34651dd47c",
   "metadata": {},
   "outputs": [
    {
     "name": "stdout",
     "output_type": "stream",
     "text": [
      "{'album': {'album_type': 'album', 'artists': [{'external_urls': {'spotify': 'https://open.spotify.com/artist/0C0XlULifJtAgn6ZNCW2eu'}, 'href': 'https://api.spotify.com/v1/artists/0C0XlULifJtAgn6ZNCW2eu', 'id': '0C0XlULifJtAgn6ZNCW2eu', 'name': 'The Killers', 'type': 'artist', 'uri': 'spotify:artist:0C0XlULifJtAgn6ZNCW2eu'}], 'available_markets': ['AR', 'AU', 'AT', 'BE', 'BO', 'BR', 'BG', 'CA', 'CL', 'CO', 'CR', 'CY', 'CZ', 'DK', 'DO', 'DE', 'EC', 'EE', 'SV', 'FI', 'FR', 'GR', 'GT', 'HN', 'HK', 'HU', 'IS', 'IE', 'IT', 'LV', 'LT', 'LU', 'MY', 'MT', 'MX', 'NL', 'NZ', 'NI', 'NO', 'PA', 'PY', 'PE', 'PH', 'PL', 'PT', 'SG', 'SK', 'ES', 'SE', 'CH', 'TW', 'TR', 'UY', 'US', 'GB', 'AD', 'LI', 'MC', 'ID', 'JP', 'TH', 'VN', 'RO', 'IL', 'ZA', 'SA', 'AE', 'BH', 'QA', 'OM', 'KW', 'EG', 'MA', 'DZ', 'TN', 'LB', 'JO', 'PS', 'IN', 'BY', 'KZ', 'MD', 'UA', 'AL', 'BA', 'HR', 'ME', 'MK', 'RS', 'SI', 'KR', 'BD', 'PK', 'LK', 'GH', 'KE', 'NG', 'TZ', 'UG', 'AG', 'AM', 'BS', 'BB', 'BZ', 'BT', 'BW', 'BF', 'CV', 'CW', 'DM', 'FJ', 'GM', 'GE', 'GD', 'GW', 'GY', 'HT', 'JM', 'KI', 'LS', 'LR', 'MW', 'MV', 'ML', 'MH', 'FM', 'NA', 'NR', 'NE', 'PW', 'PG', 'WS', 'SM', 'ST', 'SN', 'SC', 'SL', 'SB', 'KN', 'LC', 'VC', 'SR', 'TL', 'TO', 'TT', 'TV', 'VU', 'AZ', 'BN', 'BI', 'KH', 'CM', 'TD', 'KM', 'GQ', 'SZ', 'GA', 'GN', 'KG', 'LA', 'MO', 'MR', 'MN', 'NP', 'RW', 'TG', 'UZ', 'ZW', 'BJ', 'MG', 'MU', 'MZ', 'AO', 'CI', 'DJ', 'ZM', 'CD', 'CG', 'IQ', 'LY', 'TJ', 'VE', 'ET', 'XK'], 'external_urls': {'spotify': 'https://open.spotify.com/album/4piJq7R3gjUOxnYs6lDCTg'}, 'href': 'https://api.spotify.com/v1/albums/4piJq7R3gjUOxnYs6lDCTg', 'id': '4piJq7R3gjUOxnYs6lDCTg', 'images': [{'url': 'https://i.scdn.co/image/ab67616d0000b273ccdddd46119a4ff53eaf1f5d', 'width': 640, 'height': 640}, {'url': 'https://i.scdn.co/image/ab67616d00001e02ccdddd46119a4ff53eaf1f5d', 'width': 300, 'height': 300}, {'url': 'https://i.scdn.co/image/ab67616d00004851ccdddd46119a4ff53eaf1f5d', 'width': 64, 'height': 64}], 'name': 'Hot Fuss', 'release_date': '2004', 'release_date_precision': 'year', 'total_tracks': 12, 'type': 'album', 'uri': 'spotify:album:4piJq7R3gjUOxnYs6lDCTg'}, 'artists': [{'external_urls': {'spotify': 'https://open.spotify.com/artist/0C0XlULifJtAgn6ZNCW2eu'}, 'href': 'https://api.spotify.com/v1/artists/0C0XlULifJtAgn6ZNCW2eu', 'id': '0C0XlULifJtAgn6ZNCW2eu', 'name': 'The Killers', 'type': 'artist', 'uri': 'spotify:artist:0C0XlULifJtAgn6ZNCW2eu'}], 'available_markets': ['AR', 'AU', 'AT', 'BE', 'BO', 'BR', 'BG', 'CA', 'CL', 'CO', 'CR', 'CY', 'CZ', 'DK', 'DO', 'DE', 'EC', 'EE', 'SV', 'FI', 'FR', 'GR', 'GT', 'HN', 'HK', 'HU', 'IS', 'IE', 'IT', 'LV', 'LT', 'LU', 'MY', 'MT', 'MX', 'NL', 'NZ', 'NI', 'NO', 'PA', 'PY', 'PE', 'PH', 'PL', 'PT', 'SG', 'SK', 'ES', 'SE', 'CH', 'TW', 'TR', 'UY', 'US', 'GB', 'AD', 'LI', 'MC', 'ID', 'JP', 'TH', 'VN', 'RO', 'IL', 'ZA', 'SA', 'AE', 'BH', 'QA', 'OM', 'KW', 'EG', 'MA', 'DZ', 'TN', 'LB', 'JO', 'PS', 'IN', 'BY', 'KZ', 'MD', 'UA', 'AL', 'BA', 'HR', 'ME', 'MK', 'RS', 'SI', 'KR', 'BD', 'PK', 'LK', 'GH', 'KE', 'NG', 'TZ', 'UG', 'AG', 'AM', 'BS', 'BB', 'BZ', 'BT', 'BW', 'BF', 'CV', 'CW', 'DM', 'FJ', 'GM', 'GE', 'GD', 'GW', 'GY', 'HT', 'JM', 'KI', 'LS', 'LR', 'MW', 'MV', 'ML', 'MH', 'FM', 'NA', 'NR', 'NE', 'PW', 'PG', 'WS', 'SM', 'ST', 'SN', 'SC', 'SL', 'SB', 'KN', 'LC', 'VC', 'SR', 'TL', 'TO', 'TT', 'TV', 'VU', 'AZ', 'BN', 'BI', 'KH', 'CM', 'TD', 'KM', 'GQ', 'SZ', 'GA', 'GN', 'KG', 'LA', 'MO', 'MR', 'MN', 'NP', 'RW', 'TG', 'UZ', 'ZW', 'BJ', 'MG', 'MU', 'MZ', 'AO', 'CI', 'DJ', 'ZM', 'CD', 'CG', 'IQ', 'LY', 'TJ', 'VE', 'ET', 'XK'], 'disc_number': 1, 'duration_ms': 222973, 'explicit': False, 'external_ids': {'isrc': 'USIR20400274'}, 'external_urls': {'spotify': 'https://open.spotify.com/track/003vvx7Niy0yvhvHt4a68B'}, 'href': 'https://api.spotify.com/v1/tracks/003vvx7Niy0yvhvHt4a68B', 'id': '003vvx7Niy0yvhvHt4a68B', 'is_local': False, 'name': 'Mr. Brightside', 'popularity': 90, 'preview_url': None, 'track_number': 2, 'type': 'track', 'uri': 'spotify:track:003vvx7Niy0yvhvHt4a68B'}\n"
     ]
    }
   ],
   "source": [
    "track = sp.track(track_id)\n",
    "print(track)"
   ]
  },
  {
   "cell_type": "markdown",
   "id": "2a3194e1-a20a-48fe-bba6-e4c873f49b5d",
   "metadata": {},
   "source": [
    "#### ***Extract MetaData***"
   ]
  },
  {
   "cell_type": "code",
   "execution_count": 33,
   "id": "4b2707c0-8987-4627-8f38-2ef842a2ad6b",
   "metadata": {},
   "outputs": [],
   "source": [
    "track_data = {\n",
    "    \"Track Name\" : track[\"name\"],\n",
    "    \"Artist\" : track[\"artists\"][0][\"name\"],\n",
    "    \"Album\" : track[\"album\"][\"name\"],\n",
    "    \"Popularity\" :track [\"popularity\"],\n",
    "    \"Duration (minutes)\" : track [\"duration_ms\"] /60000\n",
    "}"
   ]
  },
  {
   "cell_type": "markdown",
   "id": "8bd313ca-f4ea-4e39-9fc0-ef0620e3c286",
   "metadata": {},
   "source": [
    "#### ***Display MetaData***"
   ]
  },
  {
   "cell_type": "code",
   "execution_count": 44,
   "id": "916f9c41-c205-4536-85bd-ddd33a814794",
   "metadata": {},
   "outputs": [
    {
     "name": "stdout",
     "output_type": "stream",
     "text": [
      "dict_keys(['Track Name', 'Artist', 'Album', 'Popularity', 'Duration (minutes)'])\n"
     ]
    }
   ],
   "source": [
    "print(track_data.keys())\n"
   ]
  },
  {
   "cell_type": "code",
   "execution_count": 46,
   "id": "bebc6580-8534-4c47-8b9e-15398b64364c",
   "metadata": {},
   "outputs": [
    {
     "name": "stdout",
     "output_type": "stream",
     "text": [
      " Track name : Mr. Brightside\n",
      " Artist : The Killers\n",
      " Album : Hot Fuss\n",
      " Popularity  : 90\n",
      " Duration  : 3.72 minutes\n"
     ]
    }
   ],
   "source": [
    "print(f\" Track name : {track_data['Track Name']}\")\n",
    "print(f\" Artist : {track_data['Artist']}\")\n",
    "print(f\" Album : {track_data['Album']}\")\n",
    "print(f\" Popularity  : {track_data['Popularity']}\")\n",
    "print(f\" Duration  : {track_data['Duration (minutes)']:.2f} minutes\")"
   ]
  },
  {
   "cell_type": "markdown",
   "id": "6d311273-e7d2-43fc-bc01-ca6ccde54f8a",
   "metadata": {},
   "source": [
    "#### ***Convert MetaData to DataFrame***"
   ]
  },
  {
   "cell_type": "code",
   "execution_count": 51,
   "id": "62827917-5bc6-45b3-88a6-406df2e78246",
   "metadata": {},
   "outputs": [
    {
     "name": "stdout",
     "output_type": "stream",
     "text": [
      "\n",
      " Track Data As DataFrame :\n",
      "       Track Name       Artist     Album  Popularity  Duration (minutes)\n",
      "0  Mr. Brightside  The Killers  Hot Fuss          90            3.716217\n"
     ]
    }
   ],
   "source": [
    "df = pd.DataFrame([track_data])\n",
    "print(\"\\n Track Data As DataFrame :\")\n",
    "print(df)"
   ]
  },
  {
   "cell_type": "markdown",
   "id": "06a44876-b45a-42c4-848c-aaeb730cf0a1",
   "metadata": {},
   "source": [
    "#### ***Save MetaData to CSV***"
   ]
  },
  {
   "cell_type": "code",
   "execution_count": 54,
   "id": "3194a230-06d0-446f-84aa-abf7a6edb55c",
   "metadata": {},
   "outputs": [],
   "source": [
    "df.to_csv(\"spotify_track_data.csv\",index=False)"
   ]
  },
  {
   "cell_type": "markdown",
   "id": "516ac58b-9e0b-4003-9ea9-2d62c6344619",
   "metadata": {},
   "source": [
    "#### ***Visualize Track Data***"
   ]
  },
  {
   "cell_type": "code",
   "execution_count": 57,
   "id": "9d6d9403-b7ed-45bf-afaa-a898c200ec0d",
   "metadata": {},
   "outputs": [
    {
     "data": {
      "image/png": "[encoded data removed]",
      "text/plain": [
       "<Figure size 800x500 with 1 Axes>"
      ]
     },
     "metadata": {},
     "output_type": "display_data"
    }
   ],
   "source": [
    "features = [\"Popularity\",\"Duration (minutes)\"]\n",
    "values = [track_data[\"Popularity\"],track_data[\"Duration (minutes)\"]]\n",
    "\n",
    "plt.figure(figsize=(8,5))\n",
    "plt.bar(features,values,color=\"skyblue\",edgecolor=\"black\")\n",
    "plt.title(f\" Track MetaData For '{track_data[\"Track Name\"]}'\")\n",
    "plt.ylabel(\"values\")\n",
    "plt.show()"
   ]
  },
  {
   "cell_type": "markdown",
   "id": "ce377b4f-cdb2-4aef-af01-7d3f342b4262",
   "metadata": {},
   "source": [
    "#### ***MYSQL Queries***"
   ]
  },
  {
   "cell_type": "code",
   "execution_count": 24,
   "id": "7848e3c2-4bd9-4ca9-8bd0-91a83b9df7e8",
   "metadata": {},
   "outputs": [],
   "source": [
    "import mysql.connector\n",
    "db = mysql.connector.connect(\n",
    "    host=\"localhost\",\n",
    "    user=\"root\",\n",
    "    password=\"root\"\n",
    ")\n",
    "mycursor =db.cursor()\n",
    "mycursor.execute(\"CREATE DATABASE spotipy_db\")"
   ]
  },
  {
   "cell_type": "code",
   "execution_count": 28,
   "id": "46ace31b-1436-4422-a020-52ee703b1a35",
   "metadata": {},
   "outputs": [
    {
     "name": "stdout",
     "output_type": "stream",
     "text": [
      "done\n"
     ]
    }
   ],
   "source": [
    "import mysql.connector\n",
    "db = mysql.connector.connect(\n",
    "    host=\"localhost\",\n",
    "    user=\"root\",\n",
    "    password=\"root\",\n",
    "    database = \"spotipy_db\"\n",
    ")\n",
    "mycursor = db.cursor()\n",
    "mycursor.execute(\"\"\"\n",
    "     CREATE TABLE IF NOT EXISTS spotipy_tracks (\n",
    "     id INT AUTO_INCREMENT PRIMARY KEY,\n",
    "     track_name varchar(255),\n",
    "     artist varchar(255),\n",
    "     album varchar(255),\n",
    "     popularity int,\n",
    "     duration_minutes float\n",
    "     \n",
    "     )\n",
    "\"\"\") \n",
    "print(\"done\")"
   ]
  },
  {
   "cell_type": "code",
   "execution_count": 42,
   "id": "0eada91b-81d1-411c-8686-0c3d6170e706",
   "metadata": {},
   "outputs": [],
   "source": [
    "import mysql.connector\n",
    "\n",
    "db_config = {\n",
    "    \"host\": \"localhost\",\n",
    "    \"user\": \"root\",\n",
    "    \"password\": \"root\",\n",
    "    \"database\": \"spotipy_db\"\n",
    "}\n",
    "\n",
    "connection = mysql.connector.connect(**db_config)\n",
    "cursor = connection.cursor()\n"
   ]
  },
  {
   "cell_type": "code",
   "execution_count": 48,
   "id": "b2dce0f7-169b-4e53-bdee-a3f8ca30531a",
   "metadata": {},
   "outputs": [
    {
     "name": "stdout",
     "output_type": "stream",
     "text": [
      "Track 'Mr. Brightside' by The Killers inserted into the database.\n"
     ]
    }
   ],
   "source": [
    "import mysql.connector\n",
    "db = mysql.connector.connect(\n",
    "    host=\"localhost\",\n",
    "    user=\"root\",\n",
    "    password=\"root\",\n",
    "    database = \"spotipy_db\"\n",
    ")\n",
    "mycursor = db.cursor()\n",
    "mycursor.execute(\"\"\"\n",
    "     CREATE TABLE IF NOT EXISTS spotipy_tracks (\n",
    "     id INT AUTO_INCREMENT PRIMARY KEY,\n",
    "     track_name varchar(255),\n",
    "     artist varchar(255),\n",
    "     album varchar(255),\n",
    "     popularity int,\n",
    "     duration_minutes float\n",
    "     \n",
    "     )\n",
    "\"\"\")\n",
    "insert_query =  \"\"\"\n",
    "INSERT INTO spotipy_tracks (track_name,artist,album,popularity,duration_minutes) \n",
    "VALUES(%s,%s,%s,%s,%s)\n",
    "\"\"\"\n",
    "cursor.execute(insert_query,(\n",
    "    track_data[\"Track Name\"],\n",
    "    track_data[\"Artist\"],\n",
    "    track_data[\"Album\"],\n",
    "    track_data[\"Popularity\"],\n",
    "    track_data[\"Duration (minutes)\"]    \n",
    "))\n",
    "connection.commit()\n",
    "print(f\"Track '{track_data['Track Name']}' by {track_data['Artist']} inserted into the database.\")\n",
    "cursor.close()\n",
    "connection.close()"
   ]
  },
  {
   "cell_type": "code",
   "execution_count": 54,
   "id": "e4a71810-f672-42c7-ac1f-48adea52c76b",
   "metadata": {},
   "outputs": [
    {
     "name": "stdout",
     "output_type": "stream",
     "text": [
      "(1, 'Mr. Brightside', 'The Killers', 'Hot Fuss', 90, 3.71622)\n"
     ]
    }
   ],
   "source": [
    "import mysql.connector\n",
    "db=mysql.connector.connect(\n",
    "    host=\"localhost\",\n",
    "    user=\"root\",\n",
    "    password=\"root\",\n",
    "    database = \"spotipy_db\"\n",
    ")\n",
    "mycursor = db.cursor()\n",
    "sql = \"select * from spotipy_tracks\"\n",
    "mycursor.execute(sql) \n",
    "result = mycursor.fetchall()\n",
    "for row in result:\n",
    "    print(row)"
   ]
  },
  {
   "cell_type": "markdown",
   "id": "18412487-48f9-4dfe-806e-f08d2281568a",
   "metadata": {},
   "source": [
    "## ***MYSQL QUERIES AND USING MANY URL FILE FOR TO ANALYSE***"
   ]
  },
  {
   "cell_type": "code",
   "execution_count": 62,
   "id": "340fc852-eaa7-483e-bf29-3f7b77aff096",
   "metadata": {},
   "outputs": [
    {
     "name": "stdout",
     "output_type": "stream",
     "text": [
      "✅ Inserted: Munbe Vaa by A.R. Rahman\n",
      "❌ Error processing URL: https://open.spotify.com/album/1hqxdOOQtLnoqoh1tL36Y6, Error: Not a valid Spotify track URL\n",
      "❌ Error processing URL: https://open.spotify.com/album/2l86Y48TxWBYmDpUhZQttR, Error: Not a valid Spotify track URL\n",
      "✅ Inserted: Nee Otha Sollu Sollu by Vijay Antony\n",
      "\n",
      "✅ All valid tracks have been processed and inserted.\n"
     ]
    }
   ],
   "source": [
    "import re\n",
    "import mysql.connector\n",
    "import spotipy\n",
    "from spotipy.oauth2 import SpotifyClientCredentials\n",
    "\n",
    "# ----------- Spotify API Auth -----------\n",
    "sp = spotipy.Spotify(auth_manager=SpotifyClientCredentials(\n",
    "    client_id=\"bdc6836598bd4cea933f1ed34e8808f0\",\n",
    "    client_secret = \"33c47aea8d29466abf4d1c40166ea44b\",\n",
    "    \n",
    "))\n",
    "\n",
    "# ----------- MySQL Database Config -----------\n",
    "db_config = {\n",
    "    \"host\": \"localhost\",\n",
    "    \"user\": \"root\",\n",
    "    \"password\": \"root\",  # use your own MySQL password\n",
    "    \"database\": \"spotipy_db\"\n",
    "}\n",
    "\n",
    "# ----------- Connect to MySQL -----------\n",
    "connection = mysql.connector.connect(**db_config)\n",
    "cursor = connection.cursor()\n",
    "\n",
    "# ----------- Create Table if Not Exists -----------\n",
    "cursor.execute(\"\"\"\n",
    "CREATE TABLE IF NOT EXISTS spotify_tracks (\n",
    "    id INT AUTO_INCREMENT PRIMARY KEY,\n",
    "    track_name VARCHAR(255),\n",
    "    artist VARCHAR(255),\n",
    "    album VARCHAR(255),\n",
    "    popularity INT,\n",
    "    duration_minutes FLOAT\n",
    ")\n",
    "\"\"\")\n",
    "connection.commit()\n",
    "\n",
    "# ----------- Read URLs from File -----------\n",
    "file_path = \"URL.txt\"\n",
    "with open(file_path, 'r') as file:\n",
    "    track_urls = file.readlines()\n",
    "\n",
    "# ----------- Process Each URL -----------\n",
    "for track_url in track_urls:\n",
    "    track_url = track_url.strip()\n",
    "\n",
    "    try:\n",
    "        # Skip non-track URLs\n",
    "        match = re.search(r'track/([a-zA-Z0-9]+)', track_url)\n",
    "        if not match:\n",
    "            raise ValueError(\"Not a valid Spotify track URL\")\n",
    "\n",
    "        track_id = match.group(1)\n",
    "\n",
    "        # Fetch data from Spotify\n",
    "        track = sp.track(track_id)\n",
    "\n",
    "        # Prepare data\n",
    "        track_data = {\n",
    "            'Track Name': track['name'],\n",
    "            'Artist': track['artists'][0]['name'],\n",
    "            'Album': track['album']['name'],\n",
    "            'Popularity': track['popularity'],\n",
    "            'Duration (minutes)': round(track['duration_ms'] / 60000, 2)\n",
    "        }\n",
    "\n",
    "        # Insert into MySQL\n",
    "        insert_query = \"\"\"\n",
    "        INSERT INTO spotify_tracks (track_name, artist, album, popularity, duration_minutes)\n",
    "        VALUES (%s, %s, %s, %s, %s)\n",
    "        \"\"\"\n",
    "        cursor.execute(insert_query, (\n",
    "            track_data['Track Name'],\n",
    "            track_data['Artist'],\n",
    "            track_data['Album'],\n",
    "            track_data['Popularity'],\n",
    "            track_data['Duration (minutes)']\n",
    "        ))\n",
    "        connection.commit()\n",
    "\n",
    "        print(f\"✅ Inserted: {track_data['Track Name']} by {track_data['Artist']}\")\n",
    "\n",
    "    except Exception as e:\n",
    "        print(f\"❌ Error processing URL: {track_url}, Error: {e}\")\n",
    "\n",
    "# ----------- Close Connection -----------\n",
    "cursor.close()\n",
    "connection.close()\n",
    "print(\"\\n✅ All valid tracks have been processed and inserted.\")\n"
   ]
  },
  {
   "cell_type": "markdown",
   "id": "5d07a305-8eb6-485f-8e6f-6a22c035530f",
   "metadata": {},
   "source": [
    "### ***Analysing The Code***"
   ]
  },
  {
   "cell_type": "code",
   "execution_count": 66,
   "id": "4fa5f678-e66d-432b-9834-fd8a940b9ec1",
   "metadata": {},
   "outputs": [
    {
     "name": "stdout",
     "output_type": "stream",
     "text": [
      "(1, 'Munbe Vaa', 'A.R. Rahman', 'Silunu Oru Kadhal', 0, 5.95)\n",
      "(2, 'Nee Otha Sollu Sollu', 'Vijay Antony', 'Aval Peyar Tamilarasi (Original Motion Picture Soundtrack)', 49, 4.82)\n"
     ]
    }
   ],
   "source": [
    "import mysql.connector\n",
    "db=mysql.connector.connect(\n",
    "    host=\"localhost\",\n",
    "    user=\"root\",\n",
    "    password=\"root\",\n",
    "    database = \"spotipy_db\"\n",
    ")\n",
    "mycursor = db.cursor()\n",
    "sql = \"select * from spotify_tracks\"\n",
    "mycursor.execute(sql) \n",
    "result = mycursor.fetchall()\n",
    "for row in result:\n",
    "    print(row)"
   ]
  },
  {
   "cell_type": "code",
   "execution_count": 5,
   "id": "9b72f860-6db1-49b4-be3e-5801260b48c3",
   "metadata": {},
   "outputs": [
    {
     "name": "stdout",
     "output_type": "stream",
     "text": [
      "('Nee Otha Sollu Sollu', 'Vijay Antony', 'Aval Peyar Tamilarasi (Original Motion Picture Soundtrack)', 49)\n"
     ]
    }
   ],
   "source": [
    "import mysql.connector\n",
    "\n",
    "db = mysql.connector.connect(\n",
    "    host=\"localhost\",\n",
    "    user=\"root\",\n",
    "    password=\"root\",\n",
    "    database=\"spotipy_db\"\n",
    ")\n",
    "\n",
    "mycursor = db.cursor()\n",
    "sql = \"SELECT track_name, artist, album, popularity FROM spotify_tracks ORDER BY popularity DESC LIMIT 1;\"\n",
    "mycursor.execute(sql)\n",
    "\n",
    "result = mycursor.fetchall()\n",
    "\n",
    "for x in result:\n",
    "    print(x)\n"
   ]
  },
  {
   "cell_type": "code",
   "execution_count": 7,
   "id": "d2d7ce4d-773b-4a84-af74-b148f122b65f",
   "metadata": {},
   "outputs": [
    {
     "name": "stdout",
     "output_type": "stream",
     "text": [
      "(Decimal('24.5000'),)\n"
     ]
    }
   ],
   "source": [
    "import mysql.connector\n",
    "\n",
    "db = mysql.connector.connect(\n",
    "    host=\"localhost\",\n",
    "    user=\"root\",\n",
    "    password=\"root\",\n",
    "    database=\"spotipy_db\"\n",
    ")\n",
    "\n",
    "mycursor = db.cursor()\n",
    "sql = \"SELECT AVG(popularity) AS average_popularity FROM spotify_tracks;\"\n",
    "mycursor.execute(sql)\n",
    "\n",
    "result = mycursor.fetchall()\n",
    "\n",
    "for x in result:\n",
    "    print(x)\n"
   ]
  },
  {
   "cell_type": "code",
   "execution_count": 9,
   "id": "1be7f054-d07e-4589-985d-de65e2a4548b",
   "metadata": {},
   "outputs": [
    {
     "name": "stdout",
     "output_type": "stream",
     "text": [
      "('Munbe Vaa', 'A.R. Rahman', 5.95)\n",
      "('Nee Otha Sollu Sollu', 'Vijay Antony', 4.82)\n"
     ]
    }
   ],
   "source": [
    "import mysql.connector\n",
    "\n",
    "db = mysql.connector.connect(\n",
    "    host=\"localhost\",\n",
    "    user=\"root\",\n",
    "    password=\"root\",\n",
    "    database=\"spotipy_db\"\n",
    ")\n",
    "\n",
    "mycursor = db.cursor()\n",
    "sql = \"SELECT track_name, artist, duration_minutes FROM spotify_tracks WHERE duration_minutes > 4.0;\"\n",
    "mycursor.execute(sql)\n",
    "\n",
    "result = mycursor.fetchall()\n",
    "\n",
    "for x in result:\n",
    "    print(x)\n"
   ]
  },
  {
   "cell_type": "code",
   "execution_count": 15,
   "id": "9f35c20e-8c54-4a7c-bbb6-1e61ec68aae1",
   "metadata": {},
   "outputs": [
    {
     "name": "stdout",
     "output_type": "stream",
     "text": [
      "('Less Popular', 2)\n"
     ]
    }
   ],
   "source": [
    "import mysql.connector\n",
    "\n",
    "db = mysql.connector.connect(\n",
    "    host=\"localhost\",\n",
    "    user=\"root\",\n",
    "    password=\"root\",\n",
    "    database=\"spotipy_db\"\n",
    ")\n",
    "\n",
    "mycursor = db.cursor()\n",
    "\n",
    "sql = \"\"\"\n",
    "SELECT \n",
    "    CASE  \n",
    "        WHEN popularity >= 80 THEN 'Very Popular' \n",
    "        WHEN popularity >= 50 THEN 'Popular' \n",
    "        ELSE 'Less Popular'\n",
    "    END AS popularity_range, \n",
    "    COUNT(*) AS track_count\n",
    "FROM spotify_tracks \n",
    "GROUP BY popularity_range;\n",
    "\"\"\"\n",
    "\n",
    "mycursor.execute(sql)\n",
    "result = mycursor.fetchall()\n",
    "\n",
    "for row in result:\n",
    "    print(row)\n"
   ]
  }
 ],
 "metadata": {
  "kernelspec": {
   "display_name": "Python [conda env:base] *",
   "language": "python",
   "name": "conda-base-py"
  },
  "language_info": {
   "codemirror_mode": {
    "name": "ipython",
    "version": 3
   },
   "file_extension": ".py",
   "mimetype": "text/x-python",
   "name": "python",
   "nbconvert_exporter": "python",
   "pygments_lexer": "ipython3",
   "version": "3.12.3"
  }
 },
 "nbformat": 4,
 "nbformat_minor": 5
}
